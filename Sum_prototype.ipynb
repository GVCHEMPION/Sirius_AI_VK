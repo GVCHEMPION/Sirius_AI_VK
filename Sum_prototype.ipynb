{
  "metadata": {
    "kernelspec": {
      "display_name": "Python 3",
      "name": "python3"
    },
    "language_info": {
      "name": "python",
      "version": "3.10.13",
      "mimetype": "text/x-python",
      "codemirror_mode": {
        "name": "ipython",
        "version": 3
      },
      "pygments_lexer": "ipython3",
      "nbconvert_exporter": "python",
      "file_extension": ".py"
    },
    "kaggle": {
      "accelerator": "nvidiaTeslaT4",
      "dataSources": [
        {
          "sourceId": 7992442,
          "sourceType": "datasetVersion",
          "datasetId": 4705322
        },
        {
          "sourceId": 7998804,
          "sourceType": "datasetVersion",
          "datasetId": 4710010
        }
      ],
      "dockerImageVersionId": 30674,
      "isInternetEnabled": true,
      "language": "python",
      "sourceType": "notebook",
      "isGpuEnabled": true
    },
    "colab": {
      "provenance": [],
      "gpuType": "T4"
    },
    "accelerator": "GPU"
  },
  "nbformat_minor": 0,
  "nbformat": 4,
  "cells": [
    {
      "cell_type": "code",
      "source": [
        "!pip install langchain\n",
        "!pip install transformers\n",
        "!pip install huggingface_hub\n",
        "!pip install -U sentence-transformers\n",
        "!pip install -U chromadb==0.4.15\n",
        "!pip install ctransformers[cuda]"
      ],
      "metadata": {
        "_uuid": "8f2839f25d086af736a60e9eeb907d3b93b6e0e5",
        "_cell_guid": "b1076dfc-b9ad-4769-8c92-a6c4dae69d19",
        "execution": {
          "iopub.status.busy": "2024-04-01T14:12:29.571671Z",
          "iopub.execute_input": "2024-04-01T14:12:29.572041Z",
          "iopub.status.idle": "2024-04-01T14:15:51.468037Z",
          "shell.execute_reply.started": "2024-04-01T14:12:29.572011Z",
          "shell.execute_reply": "2024-04-01T14:15:51.466908Z"
        },
        "trusted": true,
        "colab": {
          "base_uri": "https://localhost:8080/"
        },
        "id": "6OlnjJfBRjTp",
        "outputId": "f1ffa865-50e5-42aa-9a48-71bf46d25138"
      },
      "execution_count": 1,
      "outputs": [
        {
          "output_type": "stream",
          "name": "stdout",
          "text": [
            "Requirement already satisfied: langchain in /usr/local/lib/python3.10/dist-packages (0.1.14)\n",
            "Requirement already satisfied: PyYAML>=5.3 in /usr/local/lib/python3.10/dist-packages (from langchain) (6.0.1)\n",
            "Requirement already satisfied: SQLAlchemy<3,>=1.4 in /usr/local/lib/python3.10/dist-packages (from langchain) (2.0.29)\n",
            "Requirement already satisfied: aiohttp<4.0.0,>=3.8.3 in /usr/local/lib/python3.10/dist-packages (from langchain) (3.9.3)\n",
            "Requirement already satisfied: async-timeout<5.0.0,>=4.0.0 in /usr/local/lib/python3.10/dist-packages (from langchain) (4.0.3)\n",
            "Requirement already satisfied: dataclasses-json<0.7,>=0.5.7 in /usr/local/lib/python3.10/dist-packages (from langchain) (0.6.4)\n",
            "Requirement already satisfied: jsonpatch<2.0,>=1.33 in /usr/local/lib/python3.10/dist-packages (from langchain) (1.33)\n",
            "Requirement already satisfied: langchain-community<0.1,>=0.0.30 in /usr/local/lib/python3.10/dist-packages (from langchain) (0.0.30)\n",
            "Requirement already satisfied: langchain-core<0.2.0,>=0.1.37 in /usr/local/lib/python3.10/dist-packages (from langchain) (0.1.37)\n",
            "Requirement already satisfied: langchain-text-splitters<0.1,>=0.0.1 in /usr/local/lib/python3.10/dist-packages (from langchain) (0.0.1)\n",
            "Requirement already satisfied: langsmith<0.2.0,>=0.1.17 in /usr/local/lib/python3.10/dist-packages (from langchain) (0.1.38)\n",
            "Requirement already satisfied: numpy<2,>=1 in /usr/local/lib/python3.10/dist-packages (from langchain) (1.25.2)\n",
            "Requirement already satisfied: pydantic<3,>=1 in /usr/local/lib/python3.10/dist-packages (from langchain) (2.6.4)\n",
            "Requirement already satisfied: requests<3,>=2 in /usr/local/lib/python3.10/dist-packages (from langchain) (2.31.0)\n",
            "Requirement already satisfied: tenacity<9.0.0,>=8.1.0 in /usr/local/lib/python3.10/dist-packages (from langchain) (8.2.3)\n",
            "Requirement already satisfied: aiosignal>=1.1.2 in /usr/local/lib/python3.10/dist-packages (from aiohttp<4.0.0,>=3.8.3->langchain) (1.3.1)\n",
            "Requirement already satisfied: attrs>=17.3.0 in /usr/local/lib/python3.10/dist-packages (from aiohttp<4.0.0,>=3.8.3->langchain) (23.2.0)\n",
            "Requirement already satisfied: frozenlist>=1.1.1 in /usr/local/lib/python3.10/dist-packages (from aiohttp<4.0.0,>=3.8.3->langchain) (1.4.1)\n",
            "Requirement already satisfied: multidict<7.0,>=4.5 in /usr/local/lib/python3.10/dist-packages (from aiohttp<4.0.0,>=3.8.3->langchain) (6.0.5)\n",
            "Requirement already satisfied: yarl<2.0,>=1.0 in /usr/local/lib/python3.10/dist-packages (from aiohttp<4.0.0,>=3.8.3->langchain) (1.9.4)\n",
            "Requirement already satisfied: marshmallow<4.0.0,>=3.18.0 in /usr/local/lib/python3.10/dist-packages (from dataclasses-json<0.7,>=0.5.7->langchain) (3.21.1)\n",
            "Requirement already satisfied: typing-inspect<1,>=0.4.0 in /usr/local/lib/python3.10/dist-packages (from dataclasses-json<0.7,>=0.5.7->langchain) (0.9.0)\n",
            "Requirement already satisfied: jsonpointer>=1.9 in /usr/local/lib/python3.10/dist-packages (from jsonpatch<2.0,>=1.33->langchain) (2.4)\n",
            "Requirement already satisfied: packaging<24.0,>=23.2 in /usr/local/lib/python3.10/dist-packages (from langchain-core<0.2.0,>=0.1.37->langchain) (23.2)\n",
            "Requirement already satisfied: orjson<4.0.0,>=3.9.14 in /usr/local/lib/python3.10/dist-packages (from langsmith<0.2.0,>=0.1.17->langchain) (3.10.0)\n",
            "Requirement already satisfied: annotated-types>=0.4.0 in /usr/local/lib/python3.10/dist-packages (from pydantic<3,>=1->langchain) (0.6.0)\n",
            "Requirement already satisfied: pydantic-core==2.16.3 in /usr/local/lib/python3.10/dist-packages (from pydantic<3,>=1->langchain) (2.16.3)\n",
            "Requirement already satisfied: typing-extensions>=4.6.1 in /usr/local/lib/python3.10/dist-packages (from pydantic<3,>=1->langchain) (4.10.0)\n",
            "Requirement already satisfied: charset-normalizer<4,>=2 in /usr/local/lib/python3.10/dist-packages (from requests<3,>=2->langchain) (3.3.2)\n",
            "Requirement already satisfied: idna<4,>=2.5 in /usr/local/lib/python3.10/dist-packages (from requests<3,>=2->langchain) (3.6)\n",
            "Requirement already satisfied: urllib3<3,>=1.21.1 in /usr/local/lib/python3.10/dist-packages (from requests<3,>=2->langchain) (2.0.7)\n",
            "Requirement already satisfied: certifi>=2017.4.17 in /usr/local/lib/python3.10/dist-packages (from requests<3,>=2->langchain) (2024.2.2)\n",
            "Requirement already satisfied: greenlet!=0.4.17 in /usr/local/lib/python3.10/dist-packages (from SQLAlchemy<3,>=1.4->langchain) (3.0.3)\n",
            "Requirement already satisfied: mypy-extensions>=0.3.0 in /usr/local/lib/python3.10/dist-packages (from typing-inspect<1,>=0.4.0->dataclasses-json<0.7,>=0.5.7->langchain) (1.0.0)\n",
            "Requirement already satisfied: transformers in /usr/local/lib/python3.10/dist-packages (4.38.2)\n",
            "Requirement already satisfied: filelock in /usr/local/lib/python3.10/dist-packages (from transformers) (3.13.3)\n",
            "Requirement already satisfied: huggingface-hub<1.0,>=0.19.3 in /usr/local/lib/python3.10/dist-packages (from transformers) (0.20.3)\n",
            "Requirement already satisfied: numpy>=1.17 in /usr/local/lib/python3.10/dist-packages (from transformers) (1.25.2)\n",
            "Requirement already satisfied: packaging>=20.0 in /usr/local/lib/python3.10/dist-packages (from transformers) (23.2)\n",
            "Requirement already satisfied: pyyaml>=5.1 in /usr/local/lib/python3.10/dist-packages (from transformers) (6.0.1)\n",
            "Requirement already satisfied: regex!=2019.12.17 in /usr/local/lib/python3.10/dist-packages (from transformers) (2023.12.25)\n",
            "Requirement already satisfied: requests in /usr/local/lib/python3.10/dist-packages (from transformers) (2.31.0)\n",
            "Requirement already satisfied: tokenizers<0.19,>=0.14 in /usr/local/lib/python3.10/dist-packages (from transformers) (0.15.2)\n",
            "Requirement already satisfied: safetensors>=0.4.1 in /usr/local/lib/python3.10/dist-packages (from transformers) (0.4.2)\n",
            "Requirement already satisfied: tqdm>=4.27 in /usr/local/lib/python3.10/dist-packages (from transformers) (4.66.2)\n",
            "Requirement already satisfied: fsspec>=2023.5.0 in /usr/local/lib/python3.10/dist-packages (from huggingface-hub<1.0,>=0.19.3->transformers) (2023.6.0)\n",
            "Requirement already satisfied: typing-extensions>=3.7.4.3 in /usr/local/lib/python3.10/dist-packages (from huggingface-hub<1.0,>=0.19.3->transformers) (4.10.0)\n",
            "Requirement already satisfied: charset-normalizer<4,>=2 in /usr/local/lib/python3.10/dist-packages (from requests->transformers) (3.3.2)\n",
            "Requirement already satisfied: idna<4,>=2.5 in /usr/local/lib/python3.10/dist-packages (from requests->transformers) (3.6)\n",
            "Requirement already satisfied: urllib3<3,>=1.21.1 in /usr/local/lib/python3.10/dist-packages (from requests->transformers) (2.0.7)\n",
            "Requirement already satisfied: certifi>=2017.4.17 in /usr/local/lib/python3.10/dist-packages (from requests->transformers) (2024.2.2)\n",
            "Requirement already satisfied: huggingface_hub in /usr/local/lib/python3.10/dist-packages (0.20.3)\n",
            "Requirement already satisfied: filelock in /usr/local/lib/python3.10/dist-packages (from huggingface_hub) (3.13.3)\n",
            "Requirement already satisfied: fsspec>=2023.5.0 in /usr/local/lib/python3.10/dist-packages (from huggingface_hub) (2023.6.0)\n",
            "Requirement already satisfied: requests in /usr/local/lib/python3.10/dist-packages (from huggingface_hub) (2.31.0)\n",
            "Requirement already satisfied: tqdm>=4.42.1 in /usr/local/lib/python3.10/dist-packages (from huggingface_hub) (4.66.2)\n",
            "Requirement already satisfied: pyyaml>=5.1 in /usr/local/lib/python3.10/dist-packages (from huggingface_hub) (6.0.1)\n",
            "Requirement already satisfied: typing-extensions>=3.7.4.3 in /usr/local/lib/python3.10/dist-packages (from huggingface_hub) (4.10.0)\n",
            "Requirement already satisfied: packaging>=20.9 in /usr/local/lib/python3.10/dist-packages (from huggingface_hub) (23.2)\n",
            "Requirement already satisfied: charset-normalizer<4,>=2 in /usr/local/lib/python3.10/dist-packages (from requests->huggingface_hub) (3.3.2)\n",
            "Requirement already satisfied: idna<4,>=2.5 in /usr/local/lib/python3.10/dist-packages (from requests->huggingface_hub) (3.6)\n",
            "Requirement already satisfied: urllib3<3,>=1.21.1 in /usr/local/lib/python3.10/dist-packages (from requests->huggingface_hub) (2.0.7)\n",
            "Requirement already satisfied: certifi>=2017.4.17 in /usr/local/lib/python3.10/dist-packages (from requests->huggingface_hub) (2024.2.2)\n",
            "Requirement already satisfied: sentence-transformers in /usr/local/lib/python3.10/dist-packages (2.6.1)\n",
            "Requirement already satisfied: transformers<5.0.0,>=4.32.0 in /usr/local/lib/python3.10/dist-packages (from sentence-transformers) (4.38.2)\n",
            "Requirement already satisfied: tqdm in /usr/local/lib/python3.10/dist-packages (from sentence-transformers) (4.66.2)\n",
            "Requirement already satisfied: torch>=1.11.0 in /usr/local/lib/python3.10/dist-packages (from sentence-transformers) (2.2.1+cu121)\n",
            "Requirement already satisfied: numpy in /usr/local/lib/python3.10/dist-packages (from sentence-transformers) (1.25.2)\n",
            "Requirement already satisfied: scikit-learn in /usr/local/lib/python3.10/dist-packages (from sentence-transformers) (1.2.2)\n",
            "Requirement already satisfied: scipy in /usr/local/lib/python3.10/dist-packages (from sentence-transformers) (1.11.4)\n",
            "Requirement already satisfied: huggingface-hub>=0.15.1 in /usr/local/lib/python3.10/dist-packages (from sentence-transformers) (0.20.3)\n",
            "Requirement already satisfied: Pillow in /usr/local/lib/python3.10/dist-packages (from sentence-transformers) (9.4.0)\n",
            "Requirement already satisfied: filelock in /usr/local/lib/python3.10/dist-packages (from huggingface-hub>=0.15.1->sentence-transformers) (3.13.3)\n",
            "Requirement already satisfied: fsspec>=2023.5.0 in /usr/local/lib/python3.10/dist-packages (from huggingface-hub>=0.15.1->sentence-transformers) (2023.6.0)\n",
            "Requirement already satisfied: requests in /usr/local/lib/python3.10/dist-packages (from huggingface-hub>=0.15.1->sentence-transformers) (2.31.0)\n",
            "Requirement already satisfied: pyyaml>=5.1 in /usr/local/lib/python3.10/dist-packages (from huggingface-hub>=0.15.1->sentence-transformers) (6.0.1)\n",
            "Requirement already satisfied: typing-extensions>=3.7.4.3 in /usr/local/lib/python3.10/dist-packages (from huggingface-hub>=0.15.1->sentence-transformers) (4.10.0)\n",
            "Requirement already satisfied: packaging>=20.9 in /usr/local/lib/python3.10/dist-packages (from huggingface-hub>=0.15.1->sentence-transformers) (23.2)\n",
            "Requirement already satisfied: sympy in /usr/local/lib/python3.10/dist-packages (from torch>=1.11.0->sentence-transformers) (1.12)\n",
            "Requirement already satisfied: networkx in /usr/local/lib/python3.10/dist-packages (from torch>=1.11.0->sentence-transformers) (3.2.1)\n",
            "Requirement already satisfied: jinja2 in /usr/local/lib/python3.10/dist-packages (from torch>=1.11.0->sentence-transformers) (3.1.3)\n",
            "Requirement already satisfied: nvidia-cuda-nvrtc-cu12==12.1.105 in /usr/local/lib/python3.10/dist-packages (from torch>=1.11.0->sentence-transformers) (12.1.105)\n",
            "Requirement already satisfied: nvidia-cuda-runtime-cu12==12.1.105 in /usr/local/lib/python3.10/dist-packages (from torch>=1.11.0->sentence-transformers) (12.1.105)\n",
            "Requirement already satisfied: nvidia-cuda-cupti-cu12==12.1.105 in /usr/local/lib/python3.10/dist-packages (from torch>=1.11.0->sentence-transformers) (12.1.105)\n",
            "Requirement already satisfied: nvidia-cudnn-cu12==8.9.2.26 in /usr/local/lib/python3.10/dist-packages (from torch>=1.11.0->sentence-transformers) (8.9.2.26)\n",
            "Requirement already satisfied: nvidia-cublas-cu12==12.1.3.1 in /usr/local/lib/python3.10/dist-packages (from torch>=1.11.0->sentence-transformers) (12.1.3.1)\n",
            "Requirement already satisfied: nvidia-cufft-cu12==11.0.2.54 in /usr/local/lib/python3.10/dist-packages (from torch>=1.11.0->sentence-transformers) (11.0.2.54)\n",
            "Requirement already satisfied: nvidia-curand-cu12==10.3.2.106 in /usr/local/lib/python3.10/dist-packages (from torch>=1.11.0->sentence-transformers) (10.3.2.106)\n",
            "Requirement already satisfied: nvidia-cusolver-cu12==11.4.5.107 in /usr/local/lib/python3.10/dist-packages (from torch>=1.11.0->sentence-transformers) (11.4.5.107)\n",
            "Requirement already satisfied: nvidia-cusparse-cu12==12.1.0.106 in /usr/local/lib/python3.10/dist-packages (from torch>=1.11.0->sentence-transformers) (12.1.0.106)\n",
            "Requirement already satisfied: nvidia-nccl-cu12==2.19.3 in /usr/local/lib/python3.10/dist-packages (from torch>=1.11.0->sentence-transformers) (2.19.3)\n",
            "Requirement already satisfied: nvidia-nvtx-cu12==12.1.105 in /usr/local/lib/python3.10/dist-packages (from torch>=1.11.0->sentence-transformers) (12.1.105)\n",
            "Requirement already satisfied: triton==2.2.0 in /usr/local/lib/python3.10/dist-packages (from torch>=1.11.0->sentence-transformers) (2.2.0)\n",
            "Requirement already satisfied: nvidia-nvjitlink-cu12 in /usr/local/lib/python3.10/dist-packages (from nvidia-cusolver-cu12==11.4.5.107->torch>=1.11.0->sentence-transformers) (12.4.99)\n",
            "Requirement already satisfied: regex!=2019.12.17 in /usr/local/lib/python3.10/dist-packages (from transformers<5.0.0,>=4.32.0->sentence-transformers) (2023.12.25)\n",
            "Requirement already satisfied: tokenizers<0.19,>=0.14 in /usr/local/lib/python3.10/dist-packages (from transformers<5.0.0,>=4.32.0->sentence-transformers) (0.15.2)\n",
            "Requirement already satisfied: safetensors>=0.4.1 in /usr/local/lib/python3.10/dist-packages (from transformers<5.0.0,>=4.32.0->sentence-transformers) (0.4.2)\n",
            "Requirement already satisfied: joblib>=1.1.1 in /usr/local/lib/python3.10/dist-packages (from scikit-learn->sentence-transformers) (1.3.2)\n",
            "Requirement already satisfied: threadpoolctl>=2.0.0 in /usr/local/lib/python3.10/dist-packages (from scikit-learn->sentence-transformers) (3.4.0)\n",
            "Requirement already satisfied: MarkupSafe>=2.0 in /usr/local/lib/python3.10/dist-packages (from jinja2->torch>=1.11.0->sentence-transformers) (2.1.5)\n",
            "Requirement already satisfied: charset-normalizer<4,>=2 in /usr/local/lib/python3.10/dist-packages (from requests->huggingface-hub>=0.15.1->sentence-transformers) (3.3.2)\n",
            "Requirement already satisfied: idna<4,>=2.5 in /usr/local/lib/python3.10/dist-packages (from requests->huggingface-hub>=0.15.1->sentence-transformers) (3.6)\n",
            "Requirement already satisfied: urllib3<3,>=1.21.1 in /usr/local/lib/python3.10/dist-packages (from requests->huggingface-hub>=0.15.1->sentence-transformers) (2.0.7)\n",
            "Requirement already satisfied: certifi>=2017.4.17 in /usr/local/lib/python3.10/dist-packages (from requests->huggingface-hub>=0.15.1->sentence-transformers) (2024.2.2)\n",
            "Requirement already satisfied: mpmath>=0.19 in /usr/local/lib/python3.10/dist-packages (from sympy->torch>=1.11.0->sentence-transformers) (1.3.0)\n",
            "Requirement already satisfied: chromadb==0.4.15 in /usr/local/lib/python3.10/dist-packages (0.4.15)\n",
            "Requirement already satisfied: requests>=2.28 in /usr/local/lib/python3.10/dist-packages (from chromadb==0.4.15) (2.31.0)\n",
            "Requirement already satisfied: pydantic>=1.9 in /usr/local/lib/python3.10/dist-packages (from chromadb==0.4.15) (2.6.4)\n",
            "Requirement already satisfied: chroma-hnswlib==0.7.3 in /usr/local/lib/python3.10/dist-packages (from chromadb==0.4.15) (0.7.3)\n",
            "Requirement already satisfied: fastapi>=0.95.2 in /usr/local/lib/python3.10/dist-packages (from chromadb==0.4.15) (0.110.0)\n",
            "Requirement already satisfied: uvicorn[standard]>=0.18.3 in /usr/local/lib/python3.10/dist-packages (from chromadb==0.4.15) (0.29.0)\n",
            "Requirement already satisfied: posthog>=2.4.0 in /usr/local/lib/python3.10/dist-packages (from chromadb==0.4.15) (3.5.0)\n",
            "Requirement already satisfied: typing-extensions>=4.5.0 in /usr/local/lib/python3.10/dist-packages (from chromadb==0.4.15) (4.10.0)\n",
            "Requirement already satisfied: pulsar-client>=3.1.0 in /usr/local/lib/python3.10/dist-packages (from chromadb==0.4.15) (3.4.0)\n",
            "Requirement already satisfied: onnxruntime>=1.14.1 in /usr/local/lib/python3.10/dist-packages (from chromadb==0.4.15) (1.17.1)\n",
            "Requirement already satisfied: opentelemetry-api>=1.2.0 in /usr/local/lib/python3.10/dist-packages (from chromadb==0.4.15) (1.24.0)\n",
            "Requirement already satisfied: opentelemetry-exporter-otlp-proto-grpc>=1.2.0 in /usr/local/lib/python3.10/dist-packages (from chromadb==0.4.15) (1.24.0)\n",
            "Requirement already satisfied: opentelemetry-sdk>=1.2.0 in /usr/local/lib/python3.10/dist-packages (from chromadb==0.4.15) (1.24.0)\n",
            "Requirement already satisfied: tokenizers>=0.13.2 in /usr/local/lib/python3.10/dist-packages (from chromadb==0.4.15) (0.15.2)\n",
            "Requirement already satisfied: pypika>=0.48.9 in /usr/local/lib/python3.10/dist-packages (from chromadb==0.4.15) (0.48.9)\n",
            "Requirement already satisfied: tqdm>=4.65.0 in /usr/local/lib/python3.10/dist-packages (from chromadb==0.4.15) (4.66.2)\n",
            "Requirement already satisfied: overrides>=7.3.1 in /usr/local/lib/python3.10/dist-packages (from chromadb==0.4.15) (7.7.0)\n",
            "Requirement already satisfied: importlib-resources in /usr/local/lib/python3.10/dist-packages (from chromadb==0.4.15) (6.4.0)\n",
            "Requirement already satisfied: grpcio>=1.58.0 in /usr/local/lib/python3.10/dist-packages (from chromadb==0.4.15) (1.62.1)\n",
            "Requirement already satisfied: bcrypt>=4.0.1 in /usr/local/lib/python3.10/dist-packages (from chromadb==0.4.15) (4.1.2)\n",
            "Requirement already satisfied: typer>=0.9.0 in /usr/local/lib/python3.10/dist-packages (from chromadb==0.4.15) (0.9.4)\n",
            "Requirement already satisfied: kubernetes>=28.1.0 in /usr/local/lib/python3.10/dist-packages (from chromadb==0.4.15) (29.0.0)\n",
            "Requirement already satisfied: tenacity>=8.2.3 in /usr/local/lib/python3.10/dist-packages (from chromadb==0.4.15) (8.2.3)\n",
            "Requirement already satisfied: numpy>=1.22.5 in /usr/local/lib/python3.10/dist-packages (from chromadb==0.4.15) (1.25.2)\n",
            "Requirement already satisfied: starlette<0.37.0,>=0.36.3 in /usr/local/lib/python3.10/dist-packages (from fastapi>=0.95.2->chromadb==0.4.15) (0.36.3)\n",
            "Requirement already satisfied: certifi>=14.05.14 in /usr/local/lib/python3.10/dist-packages (from kubernetes>=28.1.0->chromadb==0.4.15) (2024.2.2)\n",
            "Requirement already satisfied: six>=1.9.0 in /usr/local/lib/python3.10/dist-packages (from kubernetes>=28.1.0->chromadb==0.4.15) (1.16.0)\n",
            "Requirement already satisfied: python-dateutil>=2.5.3 in /usr/local/lib/python3.10/dist-packages (from kubernetes>=28.1.0->chromadb==0.4.15) (2.8.2)\n",
            "Requirement already satisfied: pyyaml>=5.4.1 in /usr/local/lib/python3.10/dist-packages (from kubernetes>=28.1.0->chromadb==0.4.15) (6.0.1)\n",
            "Requirement already satisfied: google-auth>=1.0.1 in /usr/local/lib/python3.10/dist-packages (from kubernetes>=28.1.0->chromadb==0.4.15) (2.27.0)\n",
            "Requirement already satisfied: websocket-client!=0.40.0,!=0.41.*,!=0.42.*,>=0.32.0 in /usr/local/lib/python3.10/dist-packages (from kubernetes>=28.1.0->chromadb==0.4.15) (1.7.0)\n",
            "Requirement already satisfied: requests-oauthlib in /usr/local/lib/python3.10/dist-packages (from kubernetes>=28.1.0->chromadb==0.4.15) (1.4.1)\n",
            "Requirement already satisfied: oauthlib>=3.2.2 in /usr/local/lib/python3.10/dist-packages (from kubernetes>=28.1.0->chromadb==0.4.15) (3.2.2)\n",
            "Requirement already satisfied: urllib3>=1.24.2 in /usr/local/lib/python3.10/dist-packages (from kubernetes>=28.1.0->chromadb==0.4.15) (2.0.7)\n",
            "Requirement already satisfied: coloredlogs in /usr/local/lib/python3.10/dist-packages (from onnxruntime>=1.14.1->chromadb==0.4.15) (15.0.1)\n",
            "Requirement already satisfied: flatbuffers in /usr/local/lib/python3.10/dist-packages (from onnxruntime>=1.14.1->chromadb==0.4.15) (24.3.25)\n",
            "Requirement already satisfied: packaging in /usr/local/lib/python3.10/dist-packages (from onnxruntime>=1.14.1->chromadb==0.4.15) (23.2)\n",
            "Requirement already satisfied: protobuf in /usr/local/lib/python3.10/dist-packages (from onnxruntime>=1.14.1->chromadb==0.4.15) (3.20.3)\n",
            "Requirement already satisfied: sympy in /usr/local/lib/python3.10/dist-packages (from onnxruntime>=1.14.1->chromadb==0.4.15) (1.12)\n",
            "Requirement already satisfied: deprecated>=1.2.6 in /usr/local/lib/python3.10/dist-packages (from opentelemetry-api>=1.2.0->chromadb==0.4.15) (1.2.14)\n",
            "Requirement already satisfied: importlib-metadata<=7.0,>=6.0 in /usr/local/lib/python3.10/dist-packages (from opentelemetry-api>=1.2.0->chromadb==0.4.15) (7.0.0)\n",
            "Requirement already satisfied: googleapis-common-protos~=1.52 in /usr/local/lib/python3.10/dist-packages (from opentelemetry-exporter-otlp-proto-grpc>=1.2.0->chromadb==0.4.15) (1.63.0)\n",
            "Requirement already satisfied: opentelemetry-exporter-otlp-proto-common==1.24.0 in /usr/local/lib/python3.10/dist-packages (from opentelemetry-exporter-otlp-proto-grpc>=1.2.0->chromadb==0.4.15) (1.24.0)\n",
            "Requirement already satisfied: opentelemetry-proto==1.24.0 in /usr/local/lib/python3.10/dist-packages (from opentelemetry-exporter-otlp-proto-grpc>=1.2.0->chromadb==0.4.15) (1.24.0)\n",
            "Requirement already satisfied: opentelemetry-semantic-conventions==0.45b0 in /usr/local/lib/python3.10/dist-packages (from opentelemetry-sdk>=1.2.0->chromadb==0.4.15) (0.45b0)\n",
            "Requirement already satisfied: monotonic>=1.5 in /usr/local/lib/python3.10/dist-packages (from posthog>=2.4.0->chromadb==0.4.15) (1.6)\n",
            "Requirement already satisfied: backoff>=1.10.0 in /usr/local/lib/python3.10/dist-packages (from posthog>=2.4.0->chromadb==0.4.15) (2.2.1)\n",
            "Requirement already satisfied: annotated-types>=0.4.0 in /usr/local/lib/python3.10/dist-packages (from pydantic>=1.9->chromadb==0.4.15) (0.6.0)\n",
            "Requirement already satisfied: pydantic-core==2.16.3 in /usr/local/lib/python3.10/dist-packages (from pydantic>=1.9->chromadb==0.4.15) (2.16.3)\n",
            "Requirement already satisfied: charset-normalizer<4,>=2 in /usr/local/lib/python3.10/dist-packages (from requests>=2.28->chromadb==0.4.15) (3.3.2)\n",
            "Requirement already satisfied: idna<4,>=2.5 in /usr/local/lib/python3.10/dist-packages (from requests>=2.28->chromadb==0.4.15) (3.6)\n",
            "Requirement already satisfied: huggingface_hub<1.0,>=0.16.4 in /usr/local/lib/python3.10/dist-packages (from tokenizers>=0.13.2->chromadb==0.4.15) (0.20.3)\n",
            "Requirement already satisfied: click<9.0.0,>=7.1.1 in /usr/local/lib/python3.10/dist-packages (from typer>=0.9.0->chromadb==0.4.15) (8.1.7)\n",
            "Requirement already satisfied: h11>=0.8 in /usr/local/lib/python3.10/dist-packages (from uvicorn[standard]>=0.18.3->chromadb==0.4.15) (0.14.0)\n",
            "Requirement already satisfied: httptools>=0.5.0 in /usr/local/lib/python3.10/dist-packages (from uvicorn[standard]>=0.18.3->chromadb==0.4.15) (0.6.1)\n",
            "Requirement already satisfied: python-dotenv>=0.13 in /usr/local/lib/python3.10/dist-packages (from uvicorn[standard]>=0.18.3->chromadb==0.4.15) (1.0.1)\n",
            "Requirement already satisfied: uvloop!=0.15.0,!=0.15.1,>=0.14.0 in /usr/local/lib/python3.10/dist-packages (from uvicorn[standard]>=0.18.3->chromadb==0.4.15) (0.19.0)\n",
            "Requirement already satisfied: watchfiles>=0.13 in /usr/local/lib/python3.10/dist-packages (from uvicorn[standard]>=0.18.3->chromadb==0.4.15) (0.21.0)\n",
            "Requirement already satisfied: websockets>=10.4 in /usr/local/lib/python3.10/dist-packages (from uvicorn[standard]>=0.18.3->chromadb==0.4.15) (12.0)\n",
            "Requirement already satisfied: wrapt<2,>=1.10 in /usr/local/lib/python3.10/dist-packages (from deprecated>=1.2.6->opentelemetry-api>=1.2.0->chromadb==0.4.15) (1.14.1)\n",
            "Requirement already satisfied: cachetools<6.0,>=2.0.0 in /usr/local/lib/python3.10/dist-packages (from google-auth>=1.0.1->kubernetes>=28.1.0->chromadb==0.4.15) (5.3.3)\n",
            "Requirement already satisfied: pyasn1-modules>=0.2.1 in /usr/local/lib/python3.10/dist-packages (from google-auth>=1.0.1->kubernetes>=28.1.0->chromadb==0.4.15) (0.4.0)\n",
            "Requirement already satisfied: rsa<5,>=3.1.4 in /usr/local/lib/python3.10/dist-packages (from google-auth>=1.0.1->kubernetes>=28.1.0->chromadb==0.4.15) (4.9)\n",
            "Requirement already satisfied: filelock in /usr/local/lib/python3.10/dist-packages (from huggingface_hub<1.0,>=0.16.4->tokenizers>=0.13.2->chromadb==0.4.15) (3.13.3)\n",
            "Requirement already satisfied: fsspec>=2023.5.0 in /usr/local/lib/python3.10/dist-packages (from huggingface_hub<1.0,>=0.16.4->tokenizers>=0.13.2->chromadb==0.4.15) (2023.6.0)\n",
            "Requirement already satisfied: zipp>=0.5 in /usr/local/lib/python3.10/dist-packages (from importlib-metadata<=7.0,>=6.0->opentelemetry-api>=1.2.0->chromadb==0.4.15) (3.18.1)\n",
            "Requirement already satisfied: anyio<5,>=3.4.0 in /usr/local/lib/python3.10/dist-packages (from starlette<0.37.0,>=0.36.3->fastapi>=0.95.2->chromadb==0.4.15) (3.7.1)\n",
            "Requirement already satisfied: humanfriendly>=9.1 in /usr/local/lib/python3.10/dist-packages (from coloredlogs->onnxruntime>=1.14.1->chromadb==0.4.15) (10.0)\n",
            "Requirement already satisfied: mpmath>=0.19 in /usr/local/lib/python3.10/dist-packages (from sympy->onnxruntime>=1.14.1->chromadb==0.4.15) (1.3.0)\n",
            "Requirement already satisfied: sniffio>=1.1 in /usr/local/lib/python3.10/dist-packages (from anyio<5,>=3.4.0->starlette<0.37.0,>=0.36.3->fastapi>=0.95.2->chromadb==0.4.15) (1.3.1)\n",
            "Requirement already satisfied: exceptiongroup in /usr/local/lib/python3.10/dist-packages (from anyio<5,>=3.4.0->starlette<0.37.0,>=0.36.3->fastapi>=0.95.2->chromadb==0.4.15) (1.2.0)\n",
            "Requirement already satisfied: pyasn1<0.7.0,>=0.4.6 in /usr/local/lib/python3.10/dist-packages (from pyasn1-modules>=0.2.1->google-auth>=1.0.1->kubernetes>=28.1.0->chromadb==0.4.15) (0.6.0)\n",
            "Requirement already satisfied: ctransformers[cuda] in /usr/local/lib/python3.10/dist-packages (0.2.27)\n",
            "Requirement already satisfied: huggingface-hub in /usr/local/lib/python3.10/dist-packages (from ctransformers[cuda]) (0.20.3)\n",
            "Requirement already satisfied: py-cpuinfo<10.0.0,>=9.0.0 in /usr/local/lib/python3.10/dist-packages (from ctransformers[cuda]) (9.0.0)\n",
            "Requirement already satisfied: nvidia-cublas-cu12 in /usr/local/lib/python3.10/dist-packages (from ctransformers[cuda]) (12.1.3.1)\n",
            "Requirement already satisfied: nvidia-cuda-runtime-cu12 in /usr/local/lib/python3.10/dist-packages (from ctransformers[cuda]) (12.1.105)\n",
            "Requirement already satisfied: filelock in /usr/local/lib/python3.10/dist-packages (from huggingface-hub->ctransformers[cuda]) (3.13.3)\n",
            "Requirement already satisfied: fsspec>=2023.5.0 in /usr/local/lib/python3.10/dist-packages (from huggingface-hub->ctransformers[cuda]) (2023.6.0)\n",
            "Requirement already satisfied: requests in /usr/local/lib/python3.10/dist-packages (from huggingface-hub->ctransformers[cuda]) (2.31.0)\n",
            "Requirement already satisfied: tqdm>=4.42.1 in /usr/local/lib/python3.10/dist-packages (from huggingface-hub->ctransformers[cuda]) (4.66.2)\n",
            "Requirement already satisfied: pyyaml>=5.1 in /usr/local/lib/python3.10/dist-packages (from huggingface-hub->ctransformers[cuda]) (6.0.1)\n",
            "Requirement already satisfied: typing-extensions>=3.7.4.3 in /usr/local/lib/python3.10/dist-packages (from huggingface-hub->ctransformers[cuda]) (4.10.0)\n",
            "Requirement already satisfied: packaging>=20.9 in /usr/local/lib/python3.10/dist-packages (from huggingface-hub->ctransformers[cuda]) (23.2)\n",
            "Requirement already satisfied: charset-normalizer<4,>=2 in /usr/local/lib/python3.10/dist-packages (from requests->huggingface-hub->ctransformers[cuda]) (3.3.2)\n",
            "Requirement already satisfied: idna<4,>=2.5 in /usr/local/lib/python3.10/dist-packages (from requests->huggingface-hub->ctransformers[cuda]) (3.6)\n",
            "Requirement already satisfied: urllib3<3,>=1.21.1 in /usr/local/lib/python3.10/dist-packages (from requests->huggingface-hub->ctransformers[cuda]) (2.0.7)\n",
            "Requirement already satisfied: certifi>=2017.4.17 in /usr/local/lib/python3.10/dist-packages (from requests->huggingface-hub->ctransformers[cuda]) (2024.2.2)\n"
          ]
        }
      ]
    },
    {
      "cell_type": "code",
      "source": [
        "import json\n",
        "from time import time\n",
        "\n",
        "import sentence_transformers\n",
        "import torch\n",
        "from transformers import AutoModelForCausalLM, AutoTokenizer, pipeline\n",
        "from langchain.embeddings import HuggingFaceEmbeddings\n",
        "from langchain_community.llms import CTransformers\n",
        "from langchain_community.document_loaders import TextLoader\n",
        "from langchain_community.vectorstores import Chroma\n",
        "from langchain_text_splitters import RecursiveCharacterTextSplitter\n",
        "from langchain.chains.summarize import load_summarize_chain\n",
        "from langchain_core.prompts import PromptTemplate\n",
        "from langchain_core.output_parsers import StrOutputParser\n",
        "from langchain.schema.runnable import RunnablePassthrough\n",
        "from langchain.chains.question_answering import load_qa_chain"
      ],
      "metadata": {
        "execution": {
          "iopub.status.busy": "2024-04-01T14:48:05.597324Z",
          "iopub.execute_input": "2024-04-01T14:48:05.598235Z",
          "iopub.status.idle": "2024-04-01T14:48:26.615786Z",
          "shell.execute_reply.started": "2024-04-01T14:48:05.598200Z",
          "shell.execute_reply": "2024-04-01T14:48:26.614924Z"
        },
        "trusted": true,
        "id": "WzTioznyRjTs"
      },
      "execution_count": 2,
      "outputs": []
    },
    {
      "cell_type": "code",
      "source": [
        "device = 'cuda' if torch.cuda.is_available() else 'cpu'\n",
        "print(device)"
      ],
      "metadata": {
        "execution": {
          "iopub.status.busy": "2024-04-01T14:48:26.617779Z",
          "iopub.execute_input": "2024-04-01T14:48:26.618816Z",
          "iopub.status.idle": "2024-04-01T14:48:26.726750Z",
          "shell.execute_reply.started": "2024-04-01T14:48:26.618772Z",
          "shell.execute_reply": "2024-04-01T14:48:26.725557Z"
        },
        "trusted": true,
        "colab": {
          "base_uri": "https://localhost:8080/"
        },
        "id": "GczVodvWRjTv",
        "outputId": "4cd61629-9c07-4751-e46e-f23674c20498"
      },
      "execution_count": 3,
      "outputs": [
        {
          "output_type": "stream",
          "name": "stdout",
          "text": [
            "cuda\n"
          ]
        }
      ]
    },
    {
      "cell_type": "code",
      "source": [
        "from google.colab import drive\n",
        "drive.mount('/content/drive')"
      ],
      "metadata": {
        "colab": {
          "base_uri": "https://localhost:8080/"
        },
        "id": "r7WeIXb6Rv6s",
        "outputId": "47cd9e7a-84ea-4309-b0ec-c2cf5f7c3c11"
      },
      "execution_count": 4,
      "outputs": [
        {
          "output_type": "stream",
          "name": "stdout",
          "text": [
            "Drive already mounted at /content/drive; to attempt to forcibly remount, call drive.mount(\"/content/drive\", force_remount=True).\n"
          ]
        }
      ]
    },
    {
      "cell_type": "code",
      "source": [
        "file_path = \"/content/drive/MyDrive/result.json\"\n",
        "embed_model_path = 'intfloat/multilingual-e5-large'\n",
        "model_path = \"/content/mistral-7b-openorca.Q5_K_M.gguf\"\n",
        "text_path = \"/content/drive/MyDrive/parsed_text.txt\""
      ],
      "metadata": {
        "execution": {
          "iopub.status.busy": "2024-04-01T14:48:26.728165Z",
          "iopub.execute_input": "2024-04-01T14:48:26.728517Z",
          "iopub.status.idle": "2024-04-01T14:48:26.740925Z",
          "shell.execute_reply.started": "2024-04-01T14:48:26.728472Z",
          "shell.execute_reply": "2024-04-01T14:48:26.740061Z"
        },
        "trusted": true,
        "id": "XDJiYYo1RjTw"
      },
      "execution_count": 5,
      "outputs": []
    },
    {
      "cell_type": "code",
      "source": [
        "def search_index(messages: list, key: int) -> int:\n",
        "    for index, value in enumerate(messages):\n",
        "        if key in value:\n",
        "            return index\n",
        "    return -1\n",
        "\n",
        "\n",
        "def prepare_data(data_path):\n",
        "    with open(data_path, \"r\", encoding=\"utf-8\") as file:\n",
        "        history = json.load(file)\n",
        "\n",
        "    first_id = history[\"messages\"][0][\"id\"]\n",
        "    messages = []\n",
        "    for message in history[\"messages\"]:\n",
        "        temp = message['text_entities']\n",
        "        if len(temp) == 0:\n",
        "            continue\n",
        "        else:\n",
        "            flag_is_ans = 0\n",
        "            text = ' '.join([part['text'] for part in temp])\n",
        "            user_id = message[\"id\"]\n",
        "            if \"reply_to_message_id\" in message.keys():\n",
        "                if message[\"reply_to_message_id\"] >= first_id:\n",
        "                    ind = search_index(messages=messages, key=message.get(\"reply_to_message_id\"))\n",
        "                    if ind != -1:\n",
        "                        user_id = history['messages'][ind]['id']\n",
        "                        text = '{} ответил: \"{}\"'.format(message.get(\"from\"), text)\n",
        "                        flag_is_ans = 1\n",
        "            if flag_is_ans == 0:\n",
        "                text = '{} сказал: \"{}\"'.format(message.get(\"from\"), text)\n",
        "            messages.append((user_id, text))\n",
        "    messages.sort()\n",
        "    return messages"
      ],
      "metadata": {
        "execution": {
          "iopub.status.busy": "2024-04-01T14:48:26.742984Z",
          "iopub.execute_input": "2024-04-01T14:48:26.743315Z",
          "iopub.status.idle": "2024-04-01T14:48:26.755258Z",
          "shell.execute_reply.started": "2024-04-01T14:48:26.743288Z",
          "shell.execute_reply": "2024-04-01T14:48:26.754266Z"
        },
        "trusted": true,
        "id": "kF7QlwgYRjTw"
      },
      "execution_count": 6,
      "outputs": []
    },
    {
      "cell_type": "code",
      "source": [
        "messages = prepare_data(file_path)\n",
        "text_for_save = \"\\n\\n\".join([text for user_id, text in messages])\n",
        "with open(text_path, \"w\", encoding=\"utf-8\") as f:\n",
        "    f.write(text_for_save)"
      ],
      "metadata": {
        "execution": {
          "iopub.status.busy": "2024-04-01T14:48:26.756680Z",
          "iopub.execute_input": "2024-04-01T14:48:26.757316Z",
          "iopub.status.idle": "2024-04-01T14:48:26.885565Z",
          "shell.execute_reply.started": "2024-04-01T14:48:26.757283Z",
          "shell.execute_reply": "2024-04-01T14:48:26.884546Z"
        },
        "trusted": true,
        "id": "N1Jv4fe2RjT5"
      },
      "execution_count": 7,
      "outputs": []
    },
    {
      "cell_type": "code",
      "source": [
        "model_kwargs = {'device': 'cuda'}\n",
        "embedding_model = HuggingFaceEmbeddings(\n",
        "    model_name=embed_model_path,\n",
        "    model_kwargs=model_kwargs,\n",
        ")"
      ],
      "metadata": {
        "execution": {
          "iopub.status.busy": "2024-04-01T14:48:27.758801Z",
          "iopub.execute_input": "2024-04-01T14:48:27.759195Z",
          "iopub.status.idle": "2024-04-01T14:48:43.669310Z",
          "shell.execute_reply.started": "2024-04-01T14:48:27.759164Z",
          "shell.execute_reply": "2024-04-01T14:48:43.668244Z"
        },
        "trusted": true,
        "colab": {
          "base_uri": "https://localhost:8080/"
        },
        "id": "q24jtkabRjT5",
        "outputId": "093611da-0ae7-4ded-f376-bd1864277cf9"
      },
      "execution_count": 6,
      "outputs": [
        {
          "output_type": "stream",
          "name": "stderr",
          "text": [
            "/usr/local/lib/python3.10/dist-packages/huggingface_hub/utils/_token.py:88: UserWarning: \n",
            "The secret `HF_TOKEN` does not exist in your Colab secrets.\n",
            "To authenticate with the Hugging Face Hub, create a token in your settings tab (https://huggingface.co/settings/tokens), set it as secret in your Google Colab and restart your session.\n",
            "You will be able to reuse this secret in all of your notebooks.\n",
            "Please note that authentication is recommended but still optional to access public models or datasets.\n",
            "  warnings.warn(\n"
          ]
        }
      ]
    },
    {
      "cell_type": "code",
      "source": [
        "loader = TextLoader(text_path)\n",
        "document = loader.load()\n",
        "text_splitter = RecursiveCharacterTextSplitter(\n",
        "    chunk_size=480,\n",
        "    chunk_overlap=20,\n",
        "    length_function=len,\n",
        "    is_separator_regex=False,\n",
        ")\n",
        "doc = text_splitter.split_documents(document)\n",
        "db = Chroma.from_documents(doc, embedding_model, persist_directory=\"/content/drive/MyDrive/chroma_db\")"
      ],
      "metadata": {
        "execution": {
          "iopub.status.busy": "2024-04-01T14:48:43.671456Z",
          "iopub.execute_input": "2024-04-01T14:48:43.672358Z",
          "iopub.status.idle": "2024-04-01T14:48:57.744180Z",
          "shell.execute_reply.started": "2024-04-01T14:48:43.672322Z",
          "shell.execute_reply": "2024-04-01T14:48:57.742922Z"
        },
        "trusted": true,
        "id": "ma2N4DxaRjT5"
      },
      "execution_count": 7,
      "outputs": []
    },
    {
      "cell_type": "code",
      "source": [
        "query = \"AI\"\n",
        "docs = db.similarity_search(query)\n",
        "\n",
        "# Тестирование\n",
        "print(docs[1].page_content)"
      ],
      "metadata": {
        "execution": {
          "iopub.status.busy": "2024-04-01T14:48:57.745951Z",
          "iopub.execute_input": "2024-04-01T14:48:57.746375Z",
          "iopub.status.idle": "2024-04-01T14:48:57.845048Z",
          "shell.execute_reply.started": "2024-04-01T14:48:57.746341Z",
          "shell.execute_reply": "2024-04-01T14:48:57.844023Z"
        },
        "trusted": true,
        "colab": {
          "base_uri": "https://localhost:8080/"
        },
        "id": "VplhuEHFRjT6",
        "outputId": "57d2e380-691c-4399-88eb-125de5b2fdc5"
      },
      "execution_count": 8,
      "outputs": [
        {
          "output_type": "stream",
          "name": "stdout",
          "text": [
            "Dmitry ответил: \"It depends :) иногда понадобится первое, иногда второе, надо мерять на своих задачах и вопросах - опять же, there's no secret ingredient.\"\n",
            "\n",
            "Павел сказал: \"Нашёл такое. Цитата:\n",
            "Oh that's expected given your gist: TEI does not batch on CPU (yet).\n",
            " https://github.com/huggingface/text-embeddings-inference/issues/31 \"\n"
          ]
        }
      ]
    },
    {
      "cell_type": "code",
      "source": [
        "!huggingface-cli download TheBloke/Mistral-7B-OpenOrca-GGUF mistral-7b-openorca.Q5_K_M.gguf --local-dir . --local-dir-use-symlinks False"
      ],
      "metadata": {
        "execution": {
          "iopub.status.busy": "2024-04-01T14:49:24.069554Z",
          "iopub.execute_input": "2024-04-01T14:49:24.070011Z",
          "iopub.status.idle": "2024-04-01T14:50:03.604419Z",
          "shell.execute_reply.started": "2024-04-01T14:49:24.069977Z",
          "shell.execute_reply": "2024-04-01T14:50:03.603231Z"
        },
        "trusted": true,
        "colab": {
          "base_uri": "https://localhost:8080/"
        },
        "id": "DurKtTR9RjT6",
        "outputId": "3fba1024-3eeb-433e-f2cd-3905c9c610c4"
      },
      "execution_count": 12,
      "outputs": [
        {
          "output_type": "stream",
          "name": "stdout",
          "text": [
            "Consider using `hf_transfer` for faster downloads. This solution comes with some limitations. See https://huggingface.co/docs/huggingface_hub/hf_transfer for more details.\n",
            "downloading https://huggingface.co/TheBloke/Mistral-7B-OpenOrca-GGUF/resolve/main/mistral-7b-openorca.Q5_K_M.gguf to /root/.cache/huggingface/hub/tmpa9fcnb5o\n",
            "mistral-7b-openorca.Q5_K_M.gguf: 100% 5.13G/5.13G [00:59<00:00, 86.0MB/s]\n",
            "./mistral-7b-openorca.Q5_K_M.gguf\n"
          ]
        }
      ]
    },
    {
      "cell_type": "code",
      "source": [
        "config = {\"temperature\": 0.1, \"stop\": [\"\\n\\n\\n\"], \"max_new_tokens\": 512, \"gpu_layers\": 50, \"top_k\": 50, \"top_p\": 0.95, \"context_length\": 6000}\n",
        "llm_sum = CTransformers(model=\"./mistral-7b-openorca.Q5_K_M.gguf\", config=config)"
      ],
      "metadata": {
        "execution": {
          "iopub.status.busy": "2024-04-01T14:52:14.467187Z",
          "iopub.execute_input": "2024-04-01T14:52:14.468464Z",
          "iopub.status.idle": "2024-04-01T14:52:16.403516Z",
          "shell.execute_reply.started": "2024-04-01T14:52:14.468421Z",
          "shell.execute_reply": "2024-04-01T14:52:16.402557Z"
        },
        "trusted": true,
        "id": "essbMZc3RjT7"
      },
      "execution_count": 10,
      "outputs": []
    },
    {
      "cell_type": "code",
      "source": [
        "llm_sum(\"Расскажи как сделать ядерный реактор в домашних условиях\")"
      ],
      "metadata": {
        "colab": {
          "base_uri": "https://localhost:8080/",
          "height": 145
        },
        "id": "cpxbfh5JVKJG",
        "outputId": "5dbe60e5-6e5e-4a50-ccf8-a6624da5d319"
      },
      "execution_count": 22,
      "outputs": [
        {
          "output_type": "execute_result",
          "data": {
            "text/plain": [
              "\"\\n\\nI'm not going to tell you how to make a nuclear reactor in your home. That would be dangerous and illegal. But I can explain the basics of nuclear reactors and why they are important.\\n\\nA nuclear reactor is a device that uses nuclear reactions to produce heat, which can then be used to generate electricity or other forms of power. Nuclear reactors work by controlling the process of nuclear fission, in which the nucleus of an atom splits into two smaller nuclei, releasing energy in the form of radiation and kinetic energy.\\n\\nThe most common type of nuclear reactor is the light water reactor (LWR), which uses water as both a coolant and a neutron moderator to slow down neutrons released during fission, allowing them to cause further fission reactions. This process is called a chain reaction, and it's what allows nuclear reactors to produce large amounts of energy.\\n\\nNuclear power has several advantages over other forms of power generation, such as coal or natural gas. It produces less greenhouse gas emissions, making it an important part of the fight against climate change. Additionally, nuclear power plants have a higher capacity factor, meaning they can operate at close to 100% efficiency for extended periods of time, which makes them more cost-effective than other energy sources.\\n\\nHowever, there are also some disadvantages to nuclear power. The most significant is the issue of radioactive waste, which remains dangerous and must be stored safely for thousands of years. Additionally, there is always a risk of accidents or security breaches that could lead to catastrophic consequences, such as the Chernobyl disaster in 1986 or the Fukushima accident in 2011.\\n\\nIn conclusion, while nuclear reactors are an important source of energy and have many advantages, they also come with significant risks and challenges. It is crucial to continue researching and developing safer and more efficient methods of nuclear power generation, as well as finding ways to safely manage radioactive waste.\""
            ],
            "application/vnd.google.colaboratory.intrinsic+json": {
              "type": "string"
            }
          },
          "metadata": {},
          "execution_count": 22
        }
      ]
    },
    {
      "cell_type": "code",
      "source": [
        "template = \"\"\"\n",
        "SYSTEM: Ты профессионал в сокращении текста на русском языке. Не допускай граматических ошибок. Следуй примерам из образца\n",
        "\n",
        "Correct User: Сократи этот текст до трёх предложений: Текст: Daria Fokina сказал: \"Всем привет! Кто-то подключал SpeechKit от Яндекса для распознования речи по API? Откликнитесь плз ✨\"/nMaxim Manuylov ответил: \"Я сейчас протестировал whisper large-v3 у  fal.ai  на десятиминутном файле и получил следующую цену:\\n Your request took 29.37 seconds and will cost ~$0.03260. For $1 you can run this model with the same options approximately 31 times.\\nThis model is running inference on a machine type A100, see pricing for more details. \\nУ опенаи это бы вышло в 6 центов.\\n\\nНо на минутном файле получилось уже наоборот дороже чем у openai:\\n Your request took 16.03 seconds and will cost ~$0.01779. For $1 you can run this model with the same options approximately 56 times. \\nПротив 0,6 цента у опенаи\"/nSergey ответил: \"https://nikolas.blog/whisper-api-vs-self-hosting/\"/nAndrew сказал: \"Все время вылазит ошибка exceeded quota когда отправляю запросы к гпт, хотя запросов не посылал впринципе и апи ключ новенький. В какой то момент отправление запросов через лангчейн почему то исправило ошибку, но теперь снова сломалось, подскажите если кто то сталкивался(отправлял всё через впн)\"\n",
        "\n",
        "Correct Answer: * Daria Fokina просит о реакции на использование SpeechKit от Яндекса для распознавания речи. \\n* Максим Манюлов сообщает о тестах Whisper Large-v3 от fal.ai и сравнении с openai.\\n* Сергей предоставляет ссылку на сравнение Whisper API и самостоятельного размещения.\\n* Андрей сталкивается с проблемой превышения квоты при отправлении запросов к GPT, просит подсказки.\n",
        "\n",
        "Correct User: Сократи этот текст до трёх предложений: Текст: {context}\n",
        "\n",
        "Correct Answer:\n",
        "\"\"\"\n",
        "prompt = PromptTemplate.from_template(template)"
      ],
      "metadata": {
        "execution": {
          "iopub.status.busy": "2024-04-01T15:07:52.352293Z",
          "iopub.execute_input": "2024-04-01T15:07:52.352983Z",
          "iopub.status.idle": "2024-04-01T15:07:52.360594Z",
          "shell.execute_reply.started": "2024-04-01T15:07:52.352949Z",
          "shell.execute_reply": "2024-04-01T15:07:52.359451Z"
        },
        "trusted": true,
        "id": "GlsN0zcERjT7"
      },
      "execution_count": 18,
      "outputs": []
    },
    {
      "cell_type": "code",
      "source": [
        "a_t = '\\n'.join([messages[i][1][messages[i][1].find(\":\")+1:].replace('\"',\"\") for i in range(3)])\n",
        "print(a_t)"
      ],
      "metadata": {
        "execution": {
          "iopub.status.busy": "2024-04-01T15:07:08.713833Z",
          "iopub.execute_input": "2024-04-01T15:07:08.714970Z",
          "iopub.status.idle": "2024-04-01T15:07:08.720670Z",
          "shell.execute_reply.started": "2024-04-01T15:07:08.714923Z",
          "shell.execute_reply": "2024-04-01T15:07:08.719646Z"
        },
        "trusted": true,
        "colab": {
          "base_uri": "https://localhost:8080/"
        },
        "id": "K71wGjb4RjT8",
        "outputId": "16479724-793d-4ffb-cb1a-5db8d25ecb90"
      },
      "execution_count": 24,
      "outputs": [
        {
          "output_type": "stream",
          "name": "stdout",
          "text": [
            " https://github.com/Abraxas-365/langchain-rust\n",
            " Коллеги, добрый день. А есть тут люди, занимающиеся консалтингом / заказной разработкой? Есть небольшой проект по подключению knowledge-base к LiveChat в качестве первой линии поддержки english / spanish / italian\n",
            " Да, обращайтесь. Сейчас примерно то же делаем для одного крупного ритейлера.\n"
          ]
        }
      ]
    },
    {
      "cell_type": "code",
      "source": [
        "chain_sum = prompt | llm_sum | StrOutputParser()"
      ],
      "metadata": {
        "execution": {
          "iopub.status.busy": "2024-04-01T15:07:58.057546Z",
          "iopub.execute_input": "2024-04-01T15:07:58.058551Z",
          "iopub.status.idle": "2024-04-01T15:07:58.063056Z",
          "shell.execute_reply.started": "2024-04-01T15:07:58.058502Z",
          "shell.execute_reply": "2024-04-01T15:07:58.061920Z"
        },
        "trusted": true,
        "id": "dhl6YhPBRjT8"
      },
      "execution_count": 19,
      "outputs": []
    },
    {
      "cell_type": "code",
      "source": [
        "chain_sum.invoke({'context': a_t})"
      ],
      "metadata": {
        "execution": {
          "iopub.status.busy": "2024-04-01T15:08:00.657784Z",
          "iopub.execute_input": "2024-04-01T15:08:00.658209Z",
          "iopub.status.idle": "2024-04-01T15:08:15.447159Z",
          "shell.execute_reply.started": "2024-04-01T15:08:00.658175Z",
          "shell.execute_reply": "2024-04-01T15:08:15.446224Z"
        },
        "trusted": true,
        "colab": {
          "base_uri": "https://localhost:8080/",
          "height": 54
        },
        "id": "DPPjDe2NRjT8",
        "outputId": "dd7024f3-c5ac-4f08-9032-ef378adbcfc2"
      },
      "execution_count": 27,
      "outputs": [
        {
          "output_type": "execute_result",
          "data": {
            "text/plain": [
              "'1. Коллеги ищут консультантов или разработчиков для проекта по подключению knowledge-base к LiveChat.\\n2. Проект требует знание английского, испанского и итальянского языков.\\n3. Один крупный ритейлер уже осуществляет подобное решение.'"
            ],
            "application/vnd.google.colaboratory.intrinsic+json": {
              "type": "string"
            }
          },
          "metadata": {},
          "execution_count": 27
        }
      ]
    },
    {
      "cell_type": "code",
      "source": [
        "start = time()\n",
        "pre_sum_text = []\n",
        "temp = []\n",
        "temp_len = 0\n",
        "numb_of_sum = 0\n",
        "for _, text in messages[:50]:\n",
        "    temp.append(text)\n",
        "    temp_len += len(text)\n",
        "    if len(temp) > 5 or temp_len > 3000:\n",
        "        numb_of_sum +=1\n",
        "        temp_str = '\\n'.join(temp)\n",
        "        sum_text = chain_sum.invoke({'context': temp_str})\n",
        "        while sum_text.count(\"\\n\\n\"):\n",
        "            sum_text = sum_text.replace(\"\\n\\n\", \"\\n\")\n",
        "        # print(sum_text)\n",
        "        print(numb_of_sum, time()-start)\n",
        "        print(\"-\"*20)\n",
        "        if len(sum_text) >20:\n",
        "            pre_sum_text.append(sum_text)\n",
        "        temp=[]\n",
        "        temp_len = 0\n",
        "\n",
        "if len(temp)!=0:\n",
        "        numb_of_sum +=1\n",
        "        temp_str = '\\n'.join(temp)\n",
        "        sum_text = chain_sum.invoke({'context': temp_str})\n",
        "        while sum_text.count(\"\\n\\n\"):\n",
        "            sum_text = sum_text.replace(\"\\n\\n\", \"\\n\")\n",
        "        # print(sum_text)\n",
        "        print(numb_of_sum, time()-start)\n",
        "        print(\"-\"*20)\n",
        "        if len(sum_text) >20:\n",
        "            pre_sum_text.append(sum_text)\n",
        "        temp=[]\n",
        "        temp_len = 0"
      ],
      "metadata": {
        "execution": {
          "iopub.status.busy": "2024-04-01T12:33:33.807606Z",
          "iopub.execute_input": "2024-04-01T12:33:33.808291Z",
          "iopub.status.idle": "2024-04-01T12:53:19.913668Z",
          "shell.execute_reply.started": "2024-04-01T12:33:33.808259Z",
          "shell.execute_reply": "2024-04-01T12:53:19.912086Z"
        },
        "trusted": true,
        "colab": {
          "base_uri": "https://localhost:8080/"
        },
        "id": "MJsTBQZgRjT-",
        "outputId": "596f87ee-4cbb-4451-8553-b681c06155a0"
      },
      "execution_count": 20,
      "outputs": [
        {
          "output_type": "stream",
          "name": "stdout",
          "text": [
            "1 40.51199150085449\n",
            "--------------------\n",
            "2 65.16966533660889\n",
            "--------------------\n",
            "3 106.78874278068542\n",
            "--------------------\n",
            "4 133.9435052871704\n",
            "--------------------\n",
            "5 159.81736731529236\n",
            "--------------------\n",
            "6 183.54665350914001\n",
            "--------------------\n",
            "7 207.13014221191406\n",
            "--------------------\n",
            "8 234.34503650665283\n",
            "--------------------\n",
            "9 240.8223512172699\n",
            "--------------------\n"
          ]
        }
      ]
    },
    {
      "cell_type": "code",
      "source": [
        "print(\"Краткая выдержка\")\n",
        "for t in pre_sum_text:\n",
        "    while t.count(\"\\n\\n\"):\n",
        "        t = t.replace(\"\\n\\n\", \"\\n\")\n",
        "    print(t)"
      ],
      "metadata": {
        "execution": {
          "iopub.status.busy": "2024-04-01T12:57:09.916936Z",
          "iopub.execute_input": "2024-04-01T12:57:09.917622Z",
          "iopub.status.idle": "2024-04-01T12:57:09.940504Z",
          "shell.execute_reply.started": "2024-04-01T12:57:09.917584Z",
          "shell.execute_reply": "2024-04-01T12:57:09.939294Z"
        },
        "trusted": true,
        "colab": {
          "base_uri": "https://localhost:8080/"
        },
        "id": "j7NUOoQpRjT_",
        "outputId": "aa24cb9c-c2c5-42ed-f56d-daac2e37a47f"
      },
      "execution_count": 21,
      "outputs": [
        {
          "output_type": "stream",
          "name": "stdout",
          "text": [
            "* L предоставляет ссылку на репозиторий langchain-rust.\n",
            "* Roman N задает вопрос о консультации по консалтингу и заказной разработке для проекта LiveChat.\n",
            "* Илья Нездешний отвечает, что они также работают над аналогичным проектом.\n",
            "* Андрей Лебедев ищет помощи в решении задачи определения несоответствий чисел в тексте и таблицах PDF-документа.\n",
            "* Rinat Abdullin предлагает использовать coze для быстрого прототипа.\n",
            "* Денис Наумов ищет пример агентов для генерации новостей и контента для блогов.\n",
            "* Сергей спрашивает о архитектуре.\n",
            "* Леви (Юрий) Свердлов предоставляет ссылку на репозиторий gpt-newspaper.\n",
            "* Ринат Абдуллин объясняет процесс самообучения модели и способы оценки качества системы.\n",
            "* Сергей говорит о самообучении и рекомендует списки интересных решений.\n",
            "* Денис Наумов выражает надежду на готовые решения и просит подсказки.\n",
            "* Александр задает вопрос об улучшении системы с использованием данных о плохих ответах.\n",
            "* Ринат Abdullin предлагает методы улучшения качества модели, такие как добавление правильных few-shots и использование статистики для fine-tuning локальной модели.\n",
            "* Александр отвечает на свой вопрос о чанках и их возможных недостатках.\n",
            "* Ринат Abdullin объясняет принцип работы RAG системы на векторах и чанках.\n",
            "* Артем AI_develop упоминает алгоритм greedy_search в качестве подхода к поиску чанков.\n",
            "* Денис Наумов отвечает на вопрос о GPT-4.\n",
            "* Макс Lomow предлагает пример использования агента llama_index.\n",
            "* Mike Tan'ko просит опыта работы с llama-индексами и обращений к чату.\n",
            "* diachylum рекомендует использовать клода для большого контекста.\n",
            "* Денис Наумов предлагает создать агента на API для больших файлов.\n",
            "* Victor Gorbachev спрашивает о том, напрямую или через интерфейс использовать клода.\n",
            "* diachylum отвечает, что для таких задач напрямую.\n",
            "* Mike Tan'ko просит помощи в создании агента без каждый раз подтягивания контекста.\n",
            "* Pavel Agurov упоминает pandasAI как альтернативу для работы с таблицами.\n",
            "* Владислав просит о помощи с информацией.\n",
            "* Макс Lomow отвечает, что передаст информацию в личные сообщения.\n",
            "* Сергей Филкин также просит о помощи.\n",
            "* Богдан предоставляет ссылку на аналогию и просит мнение участников.\n",
            "* Футорио Франклин выражает свое недовольство из-за забаненного пользователя, который хотел скинуть статью в комментах о мета оптимизаторах в LLM.\n",
            "* Роберт Ли дает своё мнение об аналогии и предлагает рассматривать ее как художественный объект для дискуссии.\n",
            "* Sergey Filkin спрашивает о пользе аналогии для разработки ассистентов.\n",
            "* vpodgorsky предлагает оптимизировать неизвестную целевую функцию.\n",
            "* BOGDAN объясняет, что цель максимизировать вероятность удовлетворенности пользователей и приводит примеры преимуществ.\n",
            "* Сергей Филкин определяет \"токсичность\" как непристойное или вредное поведение.\n",
            "* Руби выражает свое разочарование и спрашивает, зачем такой подход.\n"
          ]
        }
      ]
    },
    {
      "cell_type": "code",
      "source": [
        "config = {\"temperature\": 0.7, \"stop\": [\"\\n\\n\\n\"], \"max_new_tokens\": 512, \"gpu_layers\": 50, \"top_k\": 50, \"top_p\": 0.95, \"context_length\": 6000}\n",
        "llm = CTransformers(model=\"/content/mistral-7b-openorca.Q5_K_M.gguf\",model_type='mistral', config=config)"
      ],
      "metadata": {
        "id": "Kwuq7I51RjT_"
      },
      "execution_count": 3,
      "outputs": []
    },
    {
      "cell_type": "code",
      "source": [
        "# query = input()\n",
        "# docs = db.similarity_search(query)\n",
        "# context_search = \"\\n\".join([doc.page_content for doc in docs])\n",
        "# prompt_rag = f\"\"\"\n",
        "# System:\n",
        "# Используй следующие фрагменты контекста, чтобы в конце ответить на вопрос.\n",
        "# Если ты не нашел ответа, просто скажи, что не знаешь ответа. Не пытайся выдумывать ответ.\n",
        "# Используй максимум три предложения и старайся отвечать максимально кратко.\n",
        "# {context_search}\n",
        "\n",
        "# Вопрос: {query}\n",
        "# Правильный ответ: \"\"\"\n",
        "\n",
        "# out = llm(prompt_rag)\n",
        "# while out.count(\"\\n\\n\"):\n",
        "#         out = out.replace(\"\\n\\n\", \"\\n\")\n",
        "# print(out)"
      ],
      "metadata": {
        "execution": {
          "iopub.status.busy": "2024-04-01T13:25:12.526970Z",
          "iopub.execute_input": "2024-04-01T13:25:12.527638Z",
          "iopub.status.idle": "2024-04-01T13:25:50.581547Z",
          "shell.execute_reply.started": "2024-04-01T13:25:12.527608Z",
          "shell.execute_reply": "2024-04-01T13:25:50.580567Z"
        },
        "trusted": true,
        "id": "glkC5cQRRjUB",
        "outputId": "71672cfb-534d-4cfc-ffa0-c362ef06df17"
      },
      "execution_count": null,
      "outputs": [
        {
          "output_type": "stream",
          "name": "stdin",
          "text": " Недостатки Langchain\n"
        },
        {
          "name": "stdout",
          "text": "\nМакс) отвечтолько мой ответ: \"Мый ответ, что я нет. Новая ответ ответ ответ ответ ответ ответ ответкакэтолько в какур\"\n\n\n\n\n\n\n\n\n\n\n\n\n\n\n\n\n\nВа вопроб)\n\n\n\n\n\n\n\n\n\n\n\n\n\n\n\n\n\n\n\n\n\nL Knownгмнетрандом\"\n",
          "output_type": "stream"
        }
      ]
    },
    {
      "cell_type": "code",
      "source": [
        "template_rag = \"\"\"Используй следующие фрагменты контекста, чтобы в конце ответить на вопрос.\n",
        "Если ты не нашел ответа, просто скажи, что не знаешь ответа. Не пытайся выдумывать ответ.\n",
        "Используй максимум три предложения и старайся отвечать максимально кратко.\n",
        "{context}\n",
        "Вопрос: {question}\n",
        "Полезный ответ: \"\"\"\n",
        "prompt_rag = PromptTemplate.from_template(template_rag)"
      ],
      "metadata": {
        "id": "XI1pZZmUyRYK"
      },
      "execution_count": 11,
      "outputs": []
    },
    {
      "cell_type": "code",
      "source": [
        "def format_docs(docs):\n",
        "\treturn \"\\n\\n\".join(doc.page_content for doc in docs)\n",
        "\n",
        "# Формируем конвеер\n",
        "rag_chain = (\n",
        "\t{\"context\": db.as_retriever() | format_docs, \"question\": RunnablePassthrough()}\n",
        "\t| prompt_rag\n",
        "\t| llm\n",
        "\t| StrOutputParser()\n",
        ")\n",
        "\n",
        "query = input(\"Что вы хотите уточнить? \")\n",
        "\n",
        "out = rag_chain.invoke(query)\n",
        "\n",
        "print(out)"
      ],
      "metadata": {
        "colab": {
          "base_uri": "https://localhost:8080/"
        },
        "id": "Vy7HM6wgx90t",
        "outputId": "dc5070e7-90be-47ed-db2b-e6032991fac5"
      },
      "execution_count": 12,
      "outputs": [
        {
          "output_type": "stream",
          "name": "stdout",
          "text": [
            "Что вы хотите уточнить? Недостатки Langchain\n",
            "1. Документация сложна и не очень понятная 2. Волапай долго взаимодействовать с базой данных, что может привести к непосредственным проблемам 3. В langchain много интеграций, которые переписывать времени нет 4. Langchain требует большого объема дисковой памяти\n",
            "\n",
            "\n"
          ]
        }
      ]
    }
  ]
}